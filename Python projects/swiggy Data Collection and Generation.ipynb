{
 "cells": [
  {
   "cell_type": "code",
   "execution_count": 1,
   "id": "f782ee4f",
   "metadata": {},
   "outputs": [],
   "source": [
    "import pandas as pd\n",
    "import numpy as np \n",
    "from faker import Faker\n",
    "import random "
   ]
  },
  {
   "cell_type": "markdown",
   "id": "f905bb07",
   "metadata": {},
   "source": [
    "# Data Aggregation"
   ]
  },
  {
   "cell_type": "code",
   "execution_count": 24,
   "id": "6c0980d7",
   "metadata": {
    "scrolled": false
   },
   "outputs": [
    {
     "name": "stderr",
     "output_type": "stream",
     "text": [
      "C:\\Users\\hp\\AppData\\Local\\Temp\\ipykernel_21068\\4018444483.py:1: DtypeWarning: Columns (3) have mixed types. Specify dtype option on import or set low_memory=False.\n",
      "  df1 = pd.read_csv('/Users/hp/Downloads/Swiggy_rest_food.csv')\n"
     ]
    },
    {
     "data": {
      "text/plain": [
       "Index(['restaurant code', 'cuisine', 'item', 'price', 'veg_or_non_veg'], dtype='object')"
      ]
     },
     "execution_count": 24,
     "metadata": {},
     "output_type": "execute_result"
    }
   ],
   "source": [
    "df1 = pd.read_csv('/Users/hp/Downloads/Swiggy_rest_food.csv')   \n",
    "df1.columns  "
   ]
  },
  {
   "cell_type": "code",
   "execution_count": 21,
   "id": "6524b6b3",
   "metadata": {
    "scrolled": true
   },
   "outputs": [
    {
     "data": {
      "text/plain": [
       "Index(['id', 'name', 'city', 'rating', 'rating_count', 'cost', 'cuisine',\n",
       "       'lic_no', 'link', 'address', 'menu'],\n",
       "      dtype='object')"
      ]
     },
     "execution_count": 21,
     "metadata": {},
     "output_type": "execute_result"
    }
   ],
   "source": [
    "df2 = pd.read_csv('/Users/hp/Downloads/swiggy.csv')  \n",
    "df2.columns  "
   ]
  },
  {
   "cell_type": "code",
   "execution_count": 7,
   "id": "fc5a64ff",
   "metadata": {},
   "outputs": [],
   "source": [
    "df3 = pd.read_csv('/Users/hp/Downloads/onlinedeliverydata.csv') "
   ]
  },
  {
   "cell_type": "code",
   "execution_count": 192,
   "id": "c47e797a",
   "metadata": {},
   "outputs": [],
   "source": [
    "df5 = pd.read_csv('/Users/hp/Downloads/transactions.csv') "
   ]
  },
  {
   "cell_type": "markdown",
   "id": "9650340d",
   "metadata": {},
   "source": [
    "## Users table"
   ]
  },
  {
   "cell_type": "code",
   "execution_count": 190,
   "id": "c2a90038",
   "metadata": {},
   "outputs": [
    {
     "data": {
      "text/plain": [
       "(100000, 11)"
      ]
     },
     "execution_count": 190,
     "metadata": {},
     "output_type": "execute_result"
    }
   ],
   "source": [
    "# Generate data\n",
    "\n",
    "fake = Faker()\n",
    "data = {\n",
    "    'user_id': [i for i in range(1,100001)],\n",
    "    'name': [fake.name() for _ in range(100000)],\n",
    "    'email': [fake.email() for _ in range(100000)],\n",
    "    'password': [fake.password() for _ in range(100000)],\n",
    "}\n",
    "\n",
    "df = pd.DataFrame(data) \n",
    "\n",
    "for i in range(2703):     \n",
    "    df4 = pd.concat([x,df3],ignore_index=True) \n",
    "    x=df4\n",
    "\n",
    "r = df4[['Age','Gender','Marital Status','Occupation','Monthly Income','Educational Qualifications','Family size']].head(100000) \n",
    "users = pd.concat([df,r],axis=1)  \n",
    "users.shape "
   ]
  },
  {
   "cell_type": "code",
   "execution_count": 193,
   "id": "00e0a8cd",
   "metadata": {},
   "outputs": [],
   "source": [
    "users.to_csv('users.csv') "
   ]
  },
  {
   "cell_type": "markdown",
   "id": "2ea55fdd",
   "metadata": {},
   "source": [
    "## restaurant table"
   ]
  },
  {
   "cell_type": "code",
   "execution_count": 74,
   "id": "9a277a03",
   "metadata": {},
   "outputs": [
    {
     "data": {
      "text/plain": [
       "Index(['id', 'name', 'city', 'rating', 'rating_count', 'cost', 'cuisine',\n",
       "       'lic_no', 'link', 'address', 'menu'],\n",
       "      dtype='object')"
      ]
     },
     "execution_count": 74,
     "metadata": {},
     "output_type": "execute_result"
    }
   ],
   "source": [
    "#restaurant :  r_id  r_name  cuisine   rating\n",
    "restaurent = df2 \n",
    "restaurent.columns "
   ]
  },
  {
   "cell_type": "code",
   "execution_count": 194,
   "id": "a24cf6b8",
   "metadata": {},
   "outputs": [],
   "source": [
    "restaurent.to_csv('restaurant.csv') "
   ]
  },
  {
   "cell_type": "markdown",
   "id": "8ecb5d2b",
   "metadata": {},
   "source": [
    "## menu"
   ]
  },
  {
   "cell_type": "code",
   "execution_count": 156,
   "id": "3ab97551",
   "metadata": {},
   "outputs": [
    {
     "data": {
      "text/html": [
       "<div>\n",
       "<style scoped>\n",
       "    .dataframe tbody tr th:only-of-type {\n",
       "        vertical-align: middle;\n",
       "    }\n",
       "\n",
       "    .dataframe tbody tr th {\n",
       "        vertical-align: top;\n",
       "    }\n",
       "\n",
       "    .dataframe thead th {\n",
       "        text-align: right;\n",
       "    }\n",
       "</style>\n",
       "<table border=\"1\" class=\"dataframe\">\n",
       "  <thead>\n",
       "    <tr style=\"text-align: right;\">\n",
       "      <th></th>\n",
       "      <th>menu_id</th>\n",
       "      <th>r_id</th>\n",
       "      <th>item</th>\n",
       "      <th>cuisine</th>\n",
       "      <th>price</th>\n",
       "    </tr>\n",
       "  </thead>\n",
       "  <tbody>\n",
       "    <tr>\n",
       "      <th>0</th>\n",
       "      <td>mn0</td>\n",
       "      <td>567335</td>\n",
       "      <td>Aloo Tikki Burger</td>\n",
       "      <td>Beverages,Pizzas</td>\n",
       "      <td>40.0</td>\n",
       "    </tr>\n",
       "    <tr>\n",
       "      <th>1</th>\n",
       "      <td>mn1</td>\n",
       "      <td>567335</td>\n",
       "      <td>Veg Creamy Burger</td>\n",
       "      <td>Beverages,Pizzas</td>\n",
       "      <td>50.0</td>\n",
       "    </tr>\n",
       "    <tr>\n",
       "      <th>2</th>\n",
       "      <td>mn2</td>\n",
       "      <td>567335</td>\n",
       "      <td>Cheese Burst Burger</td>\n",
       "      <td>Beverages,Pizzas</td>\n",
       "      <td>65.0</td>\n",
       "    </tr>\n",
       "    <tr>\n",
       "      <th>3</th>\n",
       "      <td>mn3</td>\n",
       "      <td>567335</td>\n",
       "      <td>Paneer Creamy Burger</td>\n",
       "      <td>Beverages,Pizzas</td>\n",
       "      <td>80.0</td>\n",
       "    </tr>\n",
       "    <tr>\n",
       "      <th>4</th>\n",
       "      <td>mn4</td>\n",
       "      <td>567335</td>\n",
       "      <td>Maxican Burger</td>\n",
       "      <td>Beverages,Pizzas</td>\n",
       "      <td>80.0</td>\n",
       "    </tr>\n",
       "    <tr>\n",
       "      <th>...</th>\n",
       "      <td>...</td>\n",
       "      <td>...</td>\n",
       "      <td>...</td>\n",
       "      <td>...</td>\n",
       "      <td>...</td>\n",
       "    </tr>\n",
       "    <tr>\n",
       "      <th>1048570</th>\n",
       "      <td>mn1048570</td>\n",
       "      <td>96525</td>\n",
       "      <td>Mango Tango Sundae</td>\n",
       "      <td>Ice Cream,Desserts</td>\n",
       "      <td>159.0</td>\n",
       "    </tr>\n",
       "    <tr>\n",
       "      <th>1048571</th>\n",
       "      <td>mn1048571</td>\n",
       "      <td>96525</td>\n",
       "      <td>Mocha Fudge (double)</td>\n",
       "      <td>Ice Cream,Desserts</td>\n",
       "      <td>169.0</td>\n",
       "    </tr>\n",
       "    <tr>\n",
       "      <th>1048572</th>\n",
       "      <td>mn1048572</td>\n",
       "      <td>96525</td>\n",
       "      <td>Mocha Fudge (single)</td>\n",
       "      <td>Ice Cream,Desserts</td>\n",
       "      <td>119.0</td>\n",
       "    </tr>\n",
       "    <tr>\n",
       "      <th>1048573</th>\n",
       "      <td>mn1048573</td>\n",
       "      <td>96525</td>\n",
       "      <td>DBC Death By Chocolate (regular)</td>\n",
       "      <td>Ice Cream,Desserts</td>\n",
       "      <td>219.0</td>\n",
       "    </tr>\n",
       "    <tr>\n",
       "      <th>1048574</th>\n",
       "      <td>mn1048574</td>\n",
       "      <td>96525</td>\n",
       "      <td>Fudge Atomic Sundae</td>\n",
       "      <td>Ice Cream,Desserts</td>\n",
       "      <td>179.0</td>\n",
       "    </tr>\n",
       "  </tbody>\n",
       "</table>\n",
       "<p>1048575 rows × 5 columns</p>\n",
       "</div>"
      ],
      "text/plain": [
       "           menu_id    r_id                              item  \\\n",
       "0              mn0  567335                 Aloo Tikki Burger   \n",
       "1              mn1  567335                 Veg Creamy Burger   \n",
       "2              mn2  567335               Cheese Burst Burger   \n",
       "3              mn3  567335              Paneer Creamy Burger   \n",
       "4              mn4  567335                    Maxican Burger   \n",
       "...            ...     ...                               ...   \n",
       "1048570  mn1048570   96525                Mango Tango Sundae   \n",
       "1048571  mn1048571   96525              Mocha Fudge (double)   \n",
       "1048572  mn1048572   96525              Mocha Fudge (single)   \n",
       "1048573  mn1048573   96525  DBC Death By Chocolate (regular)   \n",
       "1048574  mn1048574   96525               Fudge Atomic Sundae   \n",
       "\n",
       "                    cuisine  price  \n",
       "0          Beverages,Pizzas   40.0  \n",
       "1          Beverages,Pizzas   50.0  \n",
       "2          Beverages,Pizzas   65.0  \n",
       "3          Beverages,Pizzas   80.0  \n",
       "4          Beverages,Pizzas   80.0  \n",
       "...                     ...    ...  \n",
       "1048570  Ice Cream,Desserts  159.0  \n",
       "1048571  Ice Cream,Desserts  169.0  \n",
       "1048572  Ice Cream,Desserts  119.0  \n",
       "1048573  Ice Cream,Desserts  219.0  \n",
       "1048574  Ice Cream,Desserts  179.0  \n",
       "\n",
       "[1048575 rows x 5 columns]"
      ]
     },
     "execution_count": 156,
     "metadata": {},
     "output_type": "execute_result"
    }
   ],
   "source": [
    "# menu:  menu_id  r_id     f_id  price\n",
    "menu = df1[['restaurant code','item', 'cuisine', 'price'] ].reset_index() \n",
    "menu.rename(columns={'index':'menu_id','restaurant code':'r_id'}, inplace=True) \n",
    "menu['menu_id'] = menu['menu_id'].apply(lambda x: f\"mn{x}\") \n",
    "menu "
   ]
  },
  {
   "cell_type": "code",
   "execution_count": 160,
   "id": "9e8821fb",
   "metadata": {},
   "outputs": [],
   "source": [
    "menu = menu.merge(food, how='inner',on='item')[['menu_id','r_id','f_id', 'cuisine', 'price']]  "
   ]
  },
  {
   "cell_type": "code",
   "execution_count": 195,
   "id": "220be6c5",
   "metadata": {},
   "outputs": [],
   "source": [
    "menu.to_csv('menu.csv') "
   ]
  },
  {
   "cell_type": "markdown",
   "id": "9320e148",
   "metadata": {},
   "source": [
    "## food table"
   ]
  },
  {
   "cell_type": "code",
   "execution_count": 157,
   "id": "3148e79e",
   "metadata": {},
   "outputs": [
    {
     "name": "stderr",
     "output_type": "stream",
     "text": [
      "C:\\Users\\hp\\AppData\\Local\\Temp\\ipykernel_21068\\714215332.py:4: SettingWithCopyWarning: \n",
      "A value is trying to be set on a copy of a slice from a DataFrame\n",
      "\n",
      "See the caveats in the documentation: https://pandas.pydata.org/pandas-docs/stable/user_guide/indexing.html#returning-a-view-versus-a-copy\n",
      "  food.drop_duplicates(inplace=True)\n",
      "C:\\Users\\hp\\AppData\\Local\\Temp\\ipykernel_21068\\714215332.py:6: SettingWithCopyWarning: \n",
      "A value is trying to be set on a copy of a slice from a DataFrame\n",
      "\n",
      "See the caveats in the documentation: https://pandas.pydata.org/pandas-docs/stable/user_guide/indexing.html#returning-a-view-versus-a-copy\n",
      "  food.rename(columns={'index':'f_id'}, inplace=True)\n",
      "C:\\Users\\hp\\AppData\\Local\\Temp\\ipykernel_21068\\714215332.py:7: SettingWithCopyWarning: \n",
      "A value is trying to be set on a copy of a slice from a DataFrame.\n",
      "Try using .loc[row_indexer,col_indexer] = value instead\n",
      "\n",
      "See the caveats in the documentation: https://pandas.pydata.org/pandas-docs/stable/user_guide/indexing.html#returning-a-view-versus-a-copy\n",
      "  food['f_id'] = food['f_id'].apply(lambda x: f\"fd{x}\")\n"
     ]
    },
    {
     "data": {
      "text/html": [
       "<div>\n",
       "<style scoped>\n",
       "    .dataframe tbody tr th:only-of-type {\n",
       "        vertical-align: middle;\n",
       "    }\n",
       "\n",
       "    .dataframe tbody tr th {\n",
       "        vertical-align: top;\n",
       "    }\n",
       "\n",
       "    .dataframe thead th {\n",
       "        text-align: right;\n",
       "    }\n",
       "</style>\n",
       "<table border=\"1\" class=\"dataframe\">\n",
       "  <thead>\n",
       "    <tr style=\"text-align: right;\">\n",
       "      <th></th>\n",
       "      <th>f_id</th>\n",
       "      <th>item</th>\n",
       "      <th>veg_or_non_veg</th>\n",
       "    </tr>\n",
       "  </thead>\n",
       "  <tbody>\n",
       "    <tr>\n",
       "      <th>0</th>\n",
       "      <td>fd0</td>\n",
       "      <td>Aloo Tikki Burger</td>\n",
       "      <td>Veg</td>\n",
       "    </tr>\n",
       "    <tr>\n",
       "      <th>1</th>\n",
       "      <td>fd1</td>\n",
       "      <td>Veg Creamy Burger</td>\n",
       "      <td>Veg</td>\n",
       "    </tr>\n",
       "    <tr>\n",
       "      <th>2</th>\n",
       "      <td>fd2</td>\n",
       "      <td>Cheese Burst Burger</td>\n",
       "      <td>Veg</td>\n",
       "    </tr>\n",
       "    <tr>\n",
       "      <th>3</th>\n",
       "      <td>fd3</td>\n",
       "      <td>Paneer Creamy Burger</td>\n",
       "      <td>Veg</td>\n",
       "    </tr>\n",
       "    <tr>\n",
       "      <th>4</th>\n",
       "      <td>fd4</td>\n",
       "      <td>Maxican Burger</td>\n",
       "      <td>Veg</td>\n",
       "    </tr>\n",
       "    <tr>\n",
       "      <th>...</th>\n",
       "      <td>...</td>\n",
       "      <td>...</td>\n",
       "      <td>...</td>\n",
       "    </tr>\n",
       "    <tr>\n",
       "      <th>371556</th>\n",
       "      <td>fd1048555</td>\n",
       "      <td>Sizzlers De- Verdure</td>\n",
       "      <td>Veg</td>\n",
       "    </tr>\n",
       "    <tr>\n",
       "      <th>371557</th>\n",
       "      <td>fd1048556</td>\n",
       "      <td>Veg Bbq Sizzler</td>\n",
       "      <td>Veg</td>\n",
       "    </tr>\n",
       "    <tr>\n",
       "      <th>371558</th>\n",
       "      <td>fd1048558</td>\n",
       "      <td>Veg Sizzling Italian</td>\n",
       "      <td>Veg</td>\n",
       "    </tr>\n",
       "    <tr>\n",
       "      <th>371559</th>\n",
       "      <td>fd1048561</td>\n",
       "      <td>Veg Overload  Sandwich</td>\n",
       "      <td>Veg</td>\n",
       "    </tr>\n",
       "    <tr>\n",
       "      <th>371560</th>\n",
       "      <td>fd1048562</td>\n",
       "      <td>Aglio Riso Rice Bowl</td>\n",
       "      <td>Veg</td>\n",
       "    </tr>\n",
       "  </tbody>\n",
       "</table>\n",
       "<p>371561 rows × 3 columns</p>\n",
       "</div>"
      ],
      "text/plain": [
       "             f_id                    item veg_or_non_veg\n",
       "0             fd0       Aloo Tikki Burger            Veg\n",
       "1             fd1       Veg Creamy Burger            Veg\n",
       "2             fd2     Cheese Burst Burger            Veg\n",
       "3             fd3    Paneer Creamy Burger            Veg\n",
       "4             fd4          Maxican Burger            Veg\n",
       "...           ...                     ...            ...\n",
       "371556  fd1048555    Sizzlers De- Verdure            Veg\n",
       "371557  fd1048556         Veg Bbq Sizzler            Veg\n",
       "371558  fd1048558    Veg Sizzling Italian            Veg\n",
       "371559  fd1048561  Veg Overload  Sandwich            Veg\n",
       "371560  fd1048562    Aglio Riso Rice Bowl            Veg\n",
       "\n",
       "[371561 rows x 3 columns]"
      ]
     },
     "execution_count": 157,
     "metadata": {},
     "output_type": "execute_result"
    }
   ],
   "source": [
    "# food:    f_id, food_name, type\n",
    "\n",
    "food = df1[['item','veg_or_non_veg']] \n",
    "food.drop_duplicates(inplace=True)\n",
    "food.reset_index(inplace=True) \n",
    "food.rename(columns={'index':'f_id'}, inplace=True) \n",
    "food['f_id'] = food['f_id'].apply(lambda x: f\"fd{x}\") \n",
    "food "
   ]
  },
  {
   "cell_type": "code",
   "execution_count": 196,
   "id": "5f66d632",
   "metadata": {},
   "outputs": [],
   "source": [
    "food.to_csv('food.csv') "
   ]
  },
  {
   "cell_type": "markdown",
   "id": "91fe2510",
   "metadata": {},
   "source": [
    "## orders table"
   ]
  },
  {
   "cell_type": "code",
   "execution_count": 187,
   "id": "a0bd7e88",
   "metadata": {},
   "outputs": [
    {
     "name": "stderr",
     "output_type": "stream",
     "text": [
      "C:\\Users\\hp\\AppData\\Local\\Temp\\ipykernel_21068\\3822434753.py:4: SettingWithCopyWarning: \n",
      "A value is trying to be set on a copy of a slice from a DataFrame.\n",
      "Try using .loc[row_indexer,col_indexer] = value instead\n",
      "\n",
      "See the caveats in the documentation: https://pandas.pydata.org/pandas-docs/stable/user_guide/indexing.html#returning-a-view-versus-a-copy\n",
      "  orders['user_id'] = np.random.randint(1,100000,150281)\n",
      "C:\\Users\\hp\\AppData\\Local\\Temp\\ipykernel_21068\\3822434753.py:5: SettingWithCopyWarning: \n",
      "A value is trying to be set on a copy of a slice from a DataFrame.\n",
      "Try using .loc[row_indexer,col_indexer] = value instead\n",
      "\n",
      "See the caveats in the documentation: https://pandas.pydata.org/pandas-docs/stable/user_guide/indexing.html#returning-a-view-versus-a-copy\n",
      "  orders['r_id'] = pd.concat([restaurent,restaurent[56:179]],ignore_index=True)['id']\n"
     ]
    },
    {
     "data": {
      "text/html": [
       "<div>\n",
       "<style scoped>\n",
       "    .dataframe tbody tr th:only-of-type {\n",
       "        vertical-align: middle;\n",
       "    }\n",
       "\n",
       "    .dataframe tbody tr th {\n",
       "        vertical-align: top;\n",
       "    }\n",
       "\n",
       "    .dataframe thead th {\n",
       "        text-align: right;\n",
       "    }\n",
       "</style>\n",
       "<table border=\"1\" class=\"dataframe\">\n",
       "  <thead>\n",
       "    <tr style=\"text-align: right;\">\n",
       "      <th></th>\n",
       "      <th>order_date</th>\n",
       "      <th>sales_qty</th>\n",
       "      <th>sales_amount</th>\n",
       "      <th>currency</th>\n",
       "      <th>user_id</th>\n",
       "      <th>r_id</th>\n",
       "    </tr>\n",
       "  </thead>\n",
       "  <tbody>\n",
       "    <tr>\n",
       "      <th>0</th>\n",
       "      <td>2017-10-10</td>\n",
       "      <td>100</td>\n",
       "      <td>41241</td>\n",
       "      <td>INR</td>\n",
       "      <td>49226</td>\n",
       "      <td>567335.0</td>\n",
       "    </tr>\n",
       "    <tr>\n",
       "      <th>1</th>\n",
       "      <td>2018-05-08</td>\n",
       "      <td>3</td>\n",
       "      <td>-1</td>\n",
       "      <td>INR</td>\n",
       "      <td>77359</td>\n",
       "      <td>531342.0</td>\n",
       "    </tr>\n",
       "    <tr>\n",
       "      <th>2</th>\n",
       "      <td>2018-04-06</td>\n",
       "      <td>1</td>\n",
       "      <td>875</td>\n",
       "      <td>INR</td>\n",
       "      <td>5321</td>\n",
       "      <td>158203.0</td>\n",
       "    </tr>\n",
       "    <tr>\n",
       "      <th>3</th>\n",
       "      <td>2018-04-11</td>\n",
       "      <td>1</td>\n",
       "      <td>583</td>\n",
       "      <td>INR</td>\n",
       "      <td>21343</td>\n",
       "      <td>187912.0</td>\n",
       "    </tr>\n",
       "    <tr>\n",
       "      <th>4</th>\n",
       "      <td>2018-06-18</td>\n",
       "      <td>6</td>\n",
       "      <td>7176</td>\n",
       "      <td>INR</td>\n",
       "      <td>75378</td>\n",
       "      <td>543530.0</td>\n",
       "    </tr>\n",
       "    <tr>\n",
       "      <th>...</th>\n",
       "      <td>...</td>\n",
       "      <td>...</td>\n",
       "      <td>...</td>\n",
       "      <td>...</td>\n",
       "      <td>...</td>\n",
       "      <td>...</td>\n",
       "    </tr>\n",
       "    <tr>\n",
       "      <th>150276</th>\n",
       "      <td>2019-04-18</td>\n",
       "      <td>1</td>\n",
       "      <td>394</td>\n",
       "      <td>INR\\r</td>\n",
       "      <td>79856</td>\n",
       "      <td>NaN</td>\n",
       "    </tr>\n",
       "    <tr>\n",
       "      <th>150277</th>\n",
       "      <td>2019-04-23</td>\n",
       "      <td>1</td>\n",
       "      <td>667</td>\n",
       "      <td>INR\\r</td>\n",
       "      <td>65798</td>\n",
       "      <td>NaN</td>\n",
       "    </tr>\n",
       "    <tr>\n",
       "      <th>150278</th>\n",
       "      <td>2019-04-23</td>\n",
       "      <td>1</td>\n",
       "      <td>625</td>\n",
       "      <td>INR\\r</td>\n",
       "      <td>49176</td>\n",
       "      <td>NaN</td>\n",
       "    </tr>\n",
       "    <tr>\n",
       "      <th>150279</th>\n",
       "      <td>2019-04-24</td>\n",
       "      <td>7</td>\n",
       "      <td>8625</td>\n",
       "      <td>INR\\r</td>\n",
       "      <td>87924</td>\n",
       "      <td>NaN</td>\n",
       "    </tr>\n",
       "    <tr>\n",
       "      <th>150280</th>\n",
       "      <td>2019-04-24</td>\n",
       "      <td>3</td>\n",
       "      <td>3792</td>\n",
       "      <td>INR\\r</td>\n",
       "      <td>41474</td>\n",
       "      <td>NaN</td>\n",
       "    </tr>\n",
       "  </tbody>\n",
       "</table>\n",
       "<p>150281 rows × 6 columns</p>\n",
       "</div>"
      ],
      "text/plain": [
       "        order_date  sales_qty  sales_amount currency  user_id      r_id\n",
       "0       2017-10-10        100         41241      INR    49226  567335.0\n",
       "1       2018-05-08          3            -1      INR    77359  531342.0\n",
       "2       2018-04-06          1           875      INR     5321  158203.0\n",
       "3       2018-04-11          1           583      INR    21343  187912.0\n",
       "4       2018-06-18          6          7176      INR    75378  543530.0\n",
       "...            ...        ...           ...      ...      ...       ...\n",
       "150276  2019-04-18          1           394    INR\\r    79856       NaN\n",
       "150277  2019-04-23          1           667    INR\\r    65798       NaN\n",
       "150278  2019-04-23          1           625    INR\\r    49176       NaN\n",
       "150279  2019-04-24          7          8625    INR\\r    87924       NaN\n",
       "150280  2019-04-24          3          3792    INR\\r    41474       NaN\n",
       "\n",
       "[150281 rows x 6 columns]"
      ]
     },
     "execution_count": 187,
     "metadata": {},
     "output_type": "execute_result"
    }
   ],
   "source": [
    "# orders :   order_id  user_id    r_id      amount   date \n",
    "orders = df5[['order_date','sales_qty','sales_amount','currency']]\n",
    "orders['user_id'] = np.random.randint(1,100000,150281) \n",
    "orders['r_id'] = pd.concat([restaurent,restaurent[56:179]],ignore_index=True)['id']   \n",
    "orders "
   ]
  },
  {
   "cell_type": "code",
   "execution_count": 197,
   "id": "58e066f5",
   "metadata": {},
   "outputs": [],
   "source": [
    "orders.to_csv('orders.csv') "
   ]
  },
  {
   "cell_type": "code",
   "execution_count": null,
   "id": "8b3a06ad",
   "metadata": {},
   "outputs": [],
   "source": []
  }
 ],
 "metadata": {
  "kernelspec": {
   "display_name": "Python 3 (ipykernel)",
   "language": "python",
   "name": "python3"
  },
  "language_info": {
   "codemirror_mode": {
    "name": "ipython",
    "version": 3
   },
   "file_extension": ".py",
   "mimetype": "text/x-python",
   "name": "python",
   "nbconvert_exporter": "python",
   "pygments_lexer": "ipython3",
   "version": "3.11.1"
  }
 },
 "nbformat": 4,
 "nbformat_minor": 5
}
