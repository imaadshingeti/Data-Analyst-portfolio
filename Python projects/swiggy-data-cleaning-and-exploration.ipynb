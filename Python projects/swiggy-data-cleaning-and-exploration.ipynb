{
 "cells": [
  {
   "cell_type": "code",
   "execution_count": 1,
   "id": "0c32af3a",
   "metadata": {
    "_cell_guid": "b1076dfc-b9ad-4769-8c92-a6c4dae69d19",
    "_uuid": "8f2839f25d086af736a60e9eeb907d3b93b6e0e5",
    "execution": {
     "iopub.execute_input": "2023-02-10T11:31:09.795026Z",
     "iopub.status.busy": "2023-02-10T11:31:09.794133Z",
     "iopub.status.idle": "2023-02-10T11:31:10.957667Z",
     "shell.execute_reply": "2023-02-10T11:31:10.956532Z"
    },
    "papermill": {
     "duration": 1.177712,
     "end_time": "2023-02-10T11:31:10.960422",
     "exception": false,
     "start_time": "2023-02-10T11:31:09.782710",
     "status": "completed"
    },
    "tags": []
   },
   "outputs": [
    {
     "name": "stdout",
     "output_type": "stream",
     "text": [
      "/kaggle/input/swiggy-restaurants-dataset/data.json\n",
      "/kaggle/input/swiggy-restaurants-dataset/swiggy.csv\n"
     ]
    }
   ],
   "source": [
    "# This Python 3 environment comes with many helpful analytics libraries installed\n",
    "# It is defined by the kaggle/python Docker image: https://github.com/kaggle/docker-python\n",
    "# For example, here's several helpful packages to load\n",
    "\n",
    "import numpy as np # linear algebra\n",
    "import pandas as pd # data processing, CSV file I/O (e.g. pd.read_csv)\n",
    "import matplotlib.pyplot as plt\n",
    "import seaborn as sns \n",
    "\n",
    "# Input data files are available in the read-only \"../input/\" directory\n",
    "# For example, running this (by clicking run or pressing Shift+Enter) will list all files under the input directory\n",
    "\n",
    "import os\n",
    "for dirname, _, filenames in os.walk('/kaggle/input'):\n",
    "    for filename in filenames:\n",
    "        print(os.path.join(dirname, filename)) \n",
    "\n",
    "# You can write up to 20GB to the current directory (/kaggle/working/) that gets preserved as output when you create a version using \"Save & Run All\" \n",
    "# You can also write temporary files to /kaggle/temp/, but they won't be saved outside of the current session"
   ]
  },
  {
   "cell_type": "code",
   "execution_count": 2,
   "id": "80a88144",
   "metadata": {
    "execution": {
     "iopub.execute_input": "2023-02-10T11:31:10.979903Z",
     "iopub.status.busy": "2023-02-10T11:31:10.979375Z",
     "iopub.status.idle": "2023-02-10T11:31:12.469503Z",
     "shell.execute_reply": "2023-02-10T11:31:12.467926Z"
    },
    "papermill": {
     "duration": 1.502586,
     "end_time": "2023-02-10T11:31:12.472144",
     "exception": false,
     "start_time": "2023-02-10T11:31:10.969558",
     "status": "completed"
    },
    "tags": []
   },
   "outputs": [],
   "source": [
    "df = pd.read_csv(\"/kaggle/input/swiggy-restaurants-dataset/swiggy.csv\")"
   ]
  },
  {
   "cell_type": "code",
   "execution_count": 3,
   "id": "bbb53c9b",
   "metadata": {
    "execution": {
     "iopub.execute_input": "2023-02-10T11:31:12.491527Z",
     "iopub.status.busy": "2023-02-10T11:31:12.491138Z",
     "iopub.status.idle": "2023-02-10T11:31:12.500547Z",
     "shell.execute_reply": "2023-02-10T11:31:12.499183Z"
    },
    "papermill": {
     "duration": 0.022981,
     "end_time": "2023-02-10T11:31:12.503480",
     "exception": false,
     "start_time": "2023-02-10T11:31:12.480499",
     "status": "completed"
    },
    "tags": []
   },
   "outputs": [
    {
     "data": {
      "text/plain": [
       "(148541, 11)"
      ]
     },
     "execution_count": 3,
     "metadata": {},
     "output_type": "execute_result"
    }
   ],
   "source": [
    "df.shape"
   ]
  },
  {
   "cell_type": "code",
   "execution_count": 4,
   "id": "de536ed1",
   "metadata": {
    "execution": {
     "iopub.execute_input": "2023-02-10T11:31:12.522087Z",
     "iopub.status.busy": "2023-02-10T11:31:12.521744Z",
     "iopub.status.idle": "2023-02-10T11:31:12.530573Z",
     "shell.execute_reply": "2023-02-10T11:31:12.529183Z"
    },
    "papermill": {
     "duration": 0.020932,
     "end_time": "2023-02-10T11:31:12.533000",
     "exception": false,
     "start_time": "2023-02-10T11:31:12.512068",
     "status": "completed"
    },
    "tags": []
   },
   "outputs": [
    {
     "data": {
      "text/plain": [
       "Index(['id', 'name', 'city', 'rating', 'rating_count', 'cost', 'cuisine',\n",
       "       'lic_no', 'link', 'address', 'menu'],\n",
       "      dtype='object')"
      ]
     },
     "execution_count": 4,
     "metadata": {},
     "output_type": "execute_result"
    }
   ],
   "source": [
    "df.columns"
   ]
  },
  {
   "cell_type": "code",
   "execution_count": 5,
   "id": "677b832a",
   "metadata": {
    "execution": {
     "iopub.execute_input": "2023-02-10T11:31:12.552880Z",
     "iopub.status.busy": "2023-02-10T11:31:12.552460Z",
     "iopub.status.idle": "2023-02-10T11:31:12.583060Z",
     "shell.execute_reply": "2023-02-10T11:31:12.581626Z"
    },
    "papermill": {
     "duration": 0.043161,
     "end_time": "2023-02-10T11:31:12.585748",
     "exception": false,
     "start_time": "2023-02-10T11:31:12.542587",
     "status": "completed"
    },
    "tags": []
   },
   "outputs": [
    {
     "data": {
      "text/html": [
       "<div>\n",
       "<style scoped>\n",
       "    .dataframe tbody tr th:only-of-type {\n",
       "        vertical-align: middle;\n",
       "    }\n",
       "\n",
       "    .dataframe tbody tr th {\n",
       "        vertical-align: top;\n",
       "    }\n",
       "\n",
       "    .dataframe thead th {\n",
       "        text-align: right;\n",
       "    }\n",
       "</style>\n",
       "<table border=\"1\" class=\"dataframe\">\n",
       "  <thead>\n",
       "    <tr style=\"text-align: right;\">\n",
       "      <th></th>\n",
       "      <th>id</th>\n",
       "      <th>name</th>\n",
       "      <th>city</th>\n",
       "      <th>rating</th>\n",
       "      <th>rating_count</th>\n",
       "      <th>cost</th>\n",
       "      <th>cuisine</th>\n",
       "      <th>lic_no</th>\n",
       "      <th>link</th>\n",
       "      <th>address</th>\n",
       "      <th>menu</th>\n",
       "    </tr>\n",
       "  </thead>\n",
       "  <tbody>\n",
       "    <tr>\n",
       "      <th>58422</th>\n",
       "      <td>579206</td>\n",
       "      <td>THE FOOD BAR</td>\n",
       "      <td>Indirapuram,Delhi</td>\n",
       "      <td>--</td>\n",
       "      <td>Too Few Ratings</td>\n",
       "      <td>₹ 800</td>\n",
       "      <td>North Indian,Biryani</td>\n",
       "      <td>license</td>\n",
       "      <td>https://www.swiggy.com/restaurants/the-food-ba...</td>\n",
       "      <td>THE FOOD BAR, Tower A, Ground Floor, Gardenia ...</td>\n",
       "      <td>Menu/579206.json</td>\n",
       "    </tr>\n",
       "    <tr>\n",
       "      <th>51394</th>\n",
       "      <td>306652</td>\n",
       "      <td>FIO Cookhouse &amp; Bar</td>\n",
       "      <td>Greater Kailash 2,Delhi</td>\n",
       "      <td>--</td>\n",
       "      <td>Too Few Ratings</td>\n",
       "      <td>₹ 1000</td>\n",
       "      <td>North Indian,European</td>\n",
       "      <td>13319010000763</td>\n",
       "      <td>https://www.swiggy.com/restaurants/fio-cookhou...</td>\n",
       "      <td>FIO Cookhouse &amp; Bar, Epicuria Mall, R1, Nehru ...</td>\n",
       "      <td>Menu/306652.json</td>\n",
       "    </tr>\n",
       "    <tr>\n",
       "      <th>131559</th>\n",
       "      <td>263939</td>\n",
       "      <td>The Brooklyn Creamery - Healthy Ice Cream</td>\n",
       "      <td>Shivaji Nagar,Pune</td>\n",
       "      <td>4.6</td>\n",
       "      <td>50+ ratings</td>\n",
       "      <td>₹ 200</td>\n",
       "      <td>Desserts,Ice Cream</td>\n",
       "      <td>11518034001573</td>\n",
       "      <td>https://www.swiggy.com/restaurants/the-brookly...</td>\n",
       "      <td>The Brooklyn Creamery - Healthy Ice Cream, Kin...</td>\n",
       "      <td>Menu/263939.json</td>\n",
       "    </tr>\n",
       "    <tr>\n",
       "      <th>6972</th>\n",
       "      <td>260350</td>\n",
       "      <td>Kabir Restaurant</td>\n",
       "      <td>Anand</td>\n",
       "      <td>4.1</td>\n",
       "      <td>100+ ratings</td>\n",
       "      <td>₹ 250</td>\n",
       "      <td>North Indian,Chinese</td>\n",
       "      <td>10718004000511</td>\n",
       "      <td>https://www.swiggy.com/restaurants/kabir-resta...</td>\n",
       "      <td>Kabir Restaurant, Mota Bazaar, Vallabh Vidyana...</td>\n",
       "      <td>Menu/260350.json</td>\n",
       "    </tr>\n",
       "    <tr>\n",
       "      <th>138378</th>\n",
       "      <td>342874</td>\n",
       "      <td>24x7 Cake Delivery</td>\n",
       "      <td>Sirsa</td>\n",
       "      <td>--</td>\n",
       "      <td>Too Few Ratings</td>\n",
       "      <td>₹ 300</td>\n",
       "      <td>Bakery</td>\n",
       "      <td>license</td>\n",
       "      <td>https://www.swiggy.com/restaurants/24x7-cake-d...</td>\n",
       "      <td>24x7 Cake Delivery, S 27/9H Dlf phase 3  Gurug...</td>\n",
       "      <td>Menu/342874.json</td>\n",
       "    </tr>\n",
       "  </tbody>\n",
       "</table>\n",
       "</div>"
      ],
      "text/plain": [
       "            id                                       name  \\\n",
       "58422   579206                               THE FOOD BAR   \n",
       "51394   306652                        FIO Cookhouse & Bar   \n",
       "131559  263939  The Brooklyn Creamery - Healthy Ice Cream   \n",
       "6972    260350                           Kabir Restaurant   \n",
       "138378  342874                         24x7 Cake Delivery   \n",
       "\n",
       "                           city rating     rating_count    cost  \\\n",
       "58422         Indirapuram,Delhi     --  Too Few Ratings   ₹ 800   \n",
       "51394   Greater Kailash 2,Delhi     --  Too Few Ratings  ₹ 1000   \n",
       "131559       Shivaji Nagar,Pune    4.6      50+ ratings   ₹ 200   \n",
       "6972                      Anand    4.1     100+ ratings   ₹ 250   \n",
       "138378                    Sirsa     --  Too Few Ratings   ₹ 300   \n",
       "\n",
       "                      cuisine          lic_no  \\\n",
       "58422    North Indian,Biryani         license   \n",
       "51394   North Indian,European  13319010000763   \n",
       "131559     Desserts,Ice Cream  11518034001573   \n",
       "6972     North Indian,Chinese  10718004000511   \n",
       "138378                 Bakery         license   \n",
       "\n",
       "                                                     link  \\\n",
       "58422   https://www.swiggy.com/restaurants/the-food-ba...   \n",
       "51394   https://www.swiggy.com/restaurants/fio-cookhou...   \n",
       "131559  https://www.swiggy.com/restaurants/the-brookly...   \n",
       "6972    https://www.swiggy.com/restaurants/kabir-resta...   \n",
       "138378  https://www.swiggy.com/restaurants/24x7-cake-d...   \n",
       "\n",
       "                                                  address              menu  \n",
       "58422   THE FOOD BAR, Tower A, Ground Floor, Gardenia ...  Menu/579206.json  \n",
       "51394   FIO Cookhouse & Bar, Epicuria Mall, R1, Nehru ...  Menu/306652.json  \n",
       "131559  The Brooklyn Creamery - Healthy Ice Cream, Kin...  Menu/263939.json  \n",
       "6972    Kabir Restaurant, Mota Bazaar, Vallabh Vidyana...  Menu/260350.json  \n",
       "138378  24x7 Cake Delivery, S 27/9H Dlf phase 3  Gurug...  Menu/342874.json  "
      ]
     },
     "execution_count": 5,
     "metadata": {},
     "output_type": "execute_result"
    }
   ],
   "source": [
    "df.sample(5) "
   ]
  },
  {
   "cell_type": "code",
   "execution_count": 6,
   "id": "51c47bfa",
   "metadata": {
    "execution": {
     "iopub.execute_input": "2023-02-10T11:31:12.604687Z",
     "iopub.status.busy": "2023-02-10T11:31:12.604296Z",
     "iopub.status.idle": "2023-02-10T11:31:12.692413Z",
     "shell.execute_reply": "2023-02-10T11:31:12.690661Z"
    },
    "papermill": {
     "duration": 0.100529,
     "end_time": "2023-02-10T11:31:12.694992",
     "exception": false,
     "start_time": "2023-02-10T11:31:12.594463",
     "status": "completed"
    },
    "tags": []
   },
   "outputs": [
    {
     "name": "stdout",
     "output_type": "stream",
     "text": [
      "<class 'pandas.core.frame.DataFrame'>\n",
      "RangeIndex: 148541 entries, 0 to 148540\n",
      "Data columns (total 11 columns):\n",
      " #   Column        Non-Null Count   Dtype \n",
      "---  ------        --------------   ----- \n",
      " 0   id            148541 non-null  int64 \n",
      " 1   name          148455 non-null  object\n",
      " 2   city          148541 non-null  object\n",
      " 3   rating        148455 non-null  object\n",
      " 4   rating_count  148455 non-null  object\n",
      " 5   cost          148410 non-null  object\n",
      " 6   cuisine       148442 non-null  object\n",
      " 7   lic_no        148312 non-null  object\n",
      " 8   link          148541 non-null  object\n",
      " 9   address       148455 non-null  object\n",
      " 10  menu          148541 non-null  object\n",
      "dtypes: int64(1), object(10)\n",
      "memory usage: 12.5+ MB\n"
     ]
    }
   ],
   "source": [
    "df.info() "
   ]
  },
  {
   "cell_type": "code",
   "execution_count": 7,
   "id": "7ce0f745",
   "metadata": {
    "execution": {
     "iopub.execute_input": "2023-02-10T11:31:12.714822Z",
     "iopub.status.busy": "2023-02-10T11:31:12.714415Z",
     "iopub.status.idle": "2023-02-10T11:31:12.729332Z",
     "shell.execute_reply": "2023-02-10T11:31:12.728147Z"
    },
    "papermill": {
     "duration": 0.027476,
     "end_time": "2023-02-10T11:31:12.731862",
     "exception": false,
     "start_time": "2023-02-10T11:31:12.704386",
     "status": "completed"
    },
    "tags": []
   },
   "outputs": [
    {
     "data": {
      "text/html": [
       "<div>\n",
       "<style scoped>\n",
       "    .dataframe tbody tr th:only-of-type {\n",
       "        vertical-align: middle;\n",
       "    }\n",
       "\n",
       "    .dataframe tbody tr th {\n",
       "        vertical-align: top;\n",
       "    }\n",
       "\n",
       "    .dataframe thead th {\n",
       "        text-align: right;\n",
       "    }\n",
       "</style>\n",
       "<table border=\"1\" class=\"dataframe\">\n",
       "  <thead>\n",
       "    <tr style=\"text-align: right;\">\n",
       "      <th></th>\n",
       "      <th>id</th>\n",
       "      <th>name</th>\n",
       "      <th>city</th>\n",
       "      <th>rating</th>\n",
       "      <th>rating_count</th>\n",
       "      <th>cost</th>\n",
       "      <th>cuisine</th>\n",
       "      <th>lic_no</th>\n",
       "      <th>link</th>\n",
       "      <th>address</th>\n",
       "      <th>menu</th>\n",
       "    </tr>\n",
       "  </thead>\n",
       "  <tbody>\n",
       "    <tr>\n",
       "      <th>0</th>\n",
       "      <td>567335</td>\n",
       "      <td>AB FOODS POINT</td>\n",
       "      <td>Abohar</td>\n",
       "      <td>--</td>\n",
       "      <td>Too Few Ratings</td>\n",
       "      <td>₹ 200</td>\n",
       "      <td>Beverages,Pizzas</td>\n",
       "      <td>22122652000138</td>\n",
       "      <td>https://www.swiggy.com/restaurants/ab-foods-po...</td>\n",
       "      <td>AB FOODS POINT, NEAR RISHI NARANG DENTAL CLINI...</td>\n",
       "      <td>Menu/567335.json</td>\n",
       "    </tr>\n",
       "    <tr>\n",
       "      <th>1</th>\n",
       "      <td>531342</td>\n",
       "      <td>Janta Sweet House</td>\n",
       "      <td>Abohar</td>\n",
       "      <td>4.4</td>\n",
       "      <td>50+ ratings</td>\n",
       "      <td>₹ 200</td>\n",
       "      <td>Sweets,Bakery</td>\n",
       "      <td>12117201000112</td>\n",
       "      <td>https://www.swiggy.com/restaurants/janta-sweet...</td>\n",
       "      <td>Janta Sweet House, Bazar No.9, Circullar Road,...</td>\n",
       "      <td>Menu/531342.json</td>\n",
       "    </tr>\n",
       "    <tr>\n",
       "      <th>2</th>\n",
       "      <td>158203</td>\n",
       "      <td>theka coffee desi</td>\n",
       "      <td>Abohar</td>\n",
       "      <td>3.8</td>\n",
       "      <td>100+ ratings</td>\n",
       "      <td>₹ 100</td>\n",
       "      <td>Beverages</td>\n",
       "      <td>22121652000190</td>\n",
       "      <td>https://www.swiggy.com/restaurants/theka-coffe...</td>\n",
       "      <td>theka coffee desi, sahtiya sadan road city</td>\n",
       "      <td>Menu/158203.json</td>\n",
       "    </tr>\n",
       "  </tbody>\n",
       "</table>\n",
       "</div>"
      ],
      "text/plain": [
       "       id               name    city rating     rating_count   cost  \\\n",
       "0  567335     AB FOODS POINT  Abohar     --  Too Few Ratings  ₹ 200   \n",
       "1  531342  Janta Sweet House  Abohar    4.4      50+ ratings  ₹ 200   \n",
       "2  158203  theka coffee desi  Abohar    3.8     100+ ratings  ₹ 100   \n",
       "\n",
       "            cuisine          lic_no  \\\n",
       "0  Beverages,Pizzas  22122652000138   \n",
       "1     Sweets,Bakery  12117201000112   \n",
       "2         Beverages  22121652000190   \n",
       "\n",
       "                                                link  \\\n",
       "0  https://www.swiggy.com/restaurants/ab-foods-po...   \n",
       "1  https://www.swiggy.com/restaurants/janta-sweet...   \n",
       "2  https://www.swiggy.com/restaurants/theka-coffe...   \n",
       "\n",
       "                                             address              menu  \n",
       "0  AB FOODS POINT, NEAR RISHI NARANG DENTAL CLINI...  Menu/567335.json  \n",
       "1  Janta Sweet House, Bazar No.9, Circullar Road,...  Menu/531342.json  \n",
       "2         theka coffee desi, sahtiya sadan road city  Menu/158203.json  "
      ]
     },
     "execution_count": 7,
     "metadata": {},
     "output_type": "execute_result"
    }
   ],
   "source": [
    "df.head(3) "
   ]
  },
  {
   "cell_type": "markdown",
   "id": "d000d6de",
   "metadata": {
    "papermill": {
     "duration": 0.009615,
     "end_time": "2023-02-10T11:31:12.751874",
     "exception": false,
     "start_time": "2023-02-10T11:31:12.742259",
     "status": "completed"
    },
    "tags": []
   },
   "source": [
    "# Data Cleaning"
   ]
  },
  {
   "cell_type": "markdown",
   "id": "78f85865",
   "metadata": {
    "papermill": {
     "duration": 0.009118,
     "end_time": "2023-02-10T11:31:12.770341",
     "exception": false,
     "start_time": "2023-02-10T11:31:12.761223",
     "status": "completed"
    },
    "tags": []
   },
   "source": [
    "## 1. Missing Value Handling"
   ]
  },
  {
   "cell_type": "code",
   "execution_count": 8,
   "id": "6a776763",
   "metadata": {
    "execution": {
     "iopub.execute_input": "2023-02-10T11:31:12.790807Z",
     "iopub.status.busy": "2023-02-10T11:31:12.790355Z",
     "iopub.status.idle": "2023-02-10T11:31:12.862256Z",
     "shell.execute_reply": "2023-02-10T11:31:12.860551Z"
    },
    "papermill": {
     "duration": 0.085381,
     "end_time": "2023-02-10T11:31:12.865039",
     "exception": false,
     "start_time": "2023-02-10T11:31:12.779658",
     "status": "completed"
    },
    "tags": []
   },
   "outputs": [
    {
     "data": {
      "text/plain": [
       "id                0\n",
       "name             86\n",
       "city              0\n",
       "rating           86\n",
       "rating_count     86\n",
       "cost            131\n",
       "cuisine          99\n",
       "lic_no          229\n",
       "link              0\n",
       "address          86\n",
       "menu              0\n",
       "dtype: int64"
      ]
     },
     "execution_count": 8,
     "metadata": {},
     "output_type": "execute_result"
    }
   ],
   "source": [
    "#Checking number of null values in each column\n",
    "df.isnull().sum()"
   ]
  },
  {
   "cell_type": "code",
   "execution_count": 9,
   "id": "d48d3947",
   "metadata": {
    "execution": {
     "iopub.execute_input": "2023-02-10T11:31:12.886127Z",
     "iopub.status.busy": "2023-02-10T11:31:12.885650Z",
     "iopub.status.idle": "2023-02-10T11:31:12.956950Z",
     "shell.execute_reply": "2023-02-10T11:31:12.955990Z"
    },
    "papermill": {
     "duration": 0.084644,
     "end_time": "2023-02-10T11:31:12.959148",
     "exception": false,
     "start_time": "2023-02-10T11:31:12.874504",
     "status": "completed"
    },
    "tags": []
   },
   "outputs": [
    {
     "data": {
      "text/plain": [
       "id              0.00\n",
       "name            0.06\n",
       "city            0.00\n",
       "rating          0.06\n",
       "rating_count    0.06\n",
       "cost            0.09\n",
       "cuisine         0.07\n",
       "lic_no          0.15\n",
       "link            0.00\n",
       "address         0.06\n",
       "menu            0.00\n",
       "dtype: float64"
      ]
     },
     "execution_count": 9,
     "metadata": {},
     "output_type": "execute_result"
    }
   ],
   "source": [
    "#Checking the percentage of missing values in each column\n",
    "round(100*(df.isnull().sum()/len(df.index)), 2) "
   ]
  },
  {
   "cell_type": "code",
   "execution_count": 10,
   "id": "6b2f2d7a",
   "metadata": {
    "execution": {
     "iopub.execute_input": "2023-02-10T11:31:12.980112Z",
     "iopub.status.busy": "2023-02-10T11:31:12.979716Z",
     "iopub.status.idle": "2023-02-10T11:31:13.075170Z",
     "shell.execute_reply": "2023-02-10T11:31:13.073950Z"
    },
    "papermill": {
     "duration": 0.108691,
     "end_time": "2023-02-10T11:31:13.077392",
     "exception": false,
     "start_time": "2023-02-10T11:31:12.968701",
     "status": "completed"
    },
    "tags": []
   },
   "outputs": [
    {
     "data": {
      "text/html": [
       "<div>\n",
       "<style scoped>\n",
       "    .dataframe tbody tr th:only-of-type {\n",
       "        vertical-align: middle;\n",
       "    }\n",
       "\n",
       "    .dataframe tbody tr th {\n",
       "        vertical-align: top;\n",
       "    }\n",
       "\n",
       "    .dataframe thead th {\n",
       "        text-align: right;\n",
       "    }\n",
       "</style>\n",
       "<table border=\"1\" class=\"dataframe\">\n",
       "  <thead>\n",
       "    <tr style=\"text-align: right;\">\n",
       "      <th></th>\n",
       "      <th>id</th>\n",
       "      <th>name</th>\n",
       "      <th>city</th>\n",
       "      <th>rating</th>\n",
       "      <th>rating_count</th>\n",
       "      <th>cost</th>\n",
       "      <th>cuisine</th>\n",
       "      <th>lic_no</th>\n",
       "      <th>link</th>\n",
       "      <th>address</th>\n",
       "      <th>menu</th>\n",
       "    </tr>\n",
       "  </thead>\n",
       "  <tbody>\n",
       "    <tr>\n",
       "      <th>0</th>\n",
       "      <td>567335</td>\n",
       "      <td>AB FOODS POINT</td>\n",
       "      <td>Abohar</td>\n",
       "      <td>--</td>\n",
       "      <td>Too Few Ratings</td>\n",
       "      <td>₹ 200</td>\n",
       "      <td>Beverages,Pizzas</td>\n",
       "      <td>22122652000138</td>\n",
       "      <td>https://www.swiggy.com/restaurants/ab-foods-po...</td>\n",
       "      <td>AB FOODS POINT, NEAR RISHI NARANG DENTAL CLINI...</td>\n",
       "      <td>Menu/567335.json</td>\n",
       "    </tr>\n",
       "    <tr>\n",
       "      <th>1</th>\n",
       "      <td>531342</td>\n",
       "      <td>Janta Sweet House</td>\n",
       "      <td>Abohar</td>\n",
       "      <td>4.4</td>\n",
       "      <td>50+ ratings</td>\n",
       "      <td>₹ 200</td>\n",
       "      <td>Sweets,Bakery</td>\n",
       "      <td>12117201000112</td>\n",
       "      <td>https://www.swiggy.com/restaurants/janta-sweet...</td>\n",
       "      <td>Janta Sweet House, Bazar No.9, Circullar Road,...</td>\n",
       "      <td>Menu/531342.json</td>\n",
       "    </tr>\n",
       "    <tr>\n",
       "      <th>2</th>\n",
       "      <td>158203</td>\n",
       "      <td>theka coffee desi</td>\n",
       "      <td>Abohar</td>\n",
       "      <td>3.8</td>\n",
       "      <td>100+ ratings</td>\n",
       "      <td>₹ 100</td>\n",
       "      <td>Beverages</td>\n",
       "      <td>22121652000190</td>\n",
       "      <td>https://www.swiggy.com/restaurants/theka-coffe...</td>\n",
       "      <td>theka coffee desi, sahtiya sadan road city</td>\n",
       "      <td>Menu/158203.json</td>\n",
       "    </tr>\n",
       "    <tr>\n",
       "      <th>3</th>\n",
       "      <td>187912</td>\n",
       "      <td>Singh Hut</td>\n",
       "      <td>Abohar</td>\n",
       "      <td>3.7</td>\n",
       "      <td>20+ ratings</td>\n",
       "      <td>₹ 250</td>\n",
       "      <td>Fast Food,Indian</td>\n",
       "      <td>22119652000167</td>\n",
       "      <td>https://www.swiggy.com/restaurants/singh-hut-n...</td>\n",
       "      <td>Singh Hut, CIRCULAR ROAD NEAR NEHRU PARK ABOHAR</td>\n",
       "      <td>Menu/187912.json</td>\n",
       "    </tr>\n",
       "    <tr>\n",
       "      <th>4</th>\n",
       "      <td>543530</td>\n",
       "      <td>GRILL MASTERS</td>\n",
       "      <td>Abohar</td>\n",
       "      <td>--</td>\n",
       "      <td>Too Few Ratings</td>\n",
       "      <td>₹ 250</td>\n",
       "      <td>Italian-American,Fast Food</td>\n",
       "      <td>12122201000053</td>\n",
       "      <td>https://www.swiggy.com/restaurants/grill-maste...</td>\n",
       "      <td>GRILL MASTERS, ADA Heights, Abohar - Hanumanga...</td>\n",
       "      <td>Menu/543530.json</td>\n",
       "    </tr>\n",
       "    <tr>\n",
       "      <th>...</th>\n",
       "      <td>...</td>\n",
       "      <td>...</td>\n",
       "      <td>...</td>\n",
       "      <td>...</td>\n",
       "      <td>...</td>\n",
       "      <td>...</td>\n",
       "      <td>...</td>\n",
       "      <td>...</td>\n",
       "      <td>...</td>\n",
       "      <td>...</td>\n",
       "      <td>...</td>\n",
       "    </tr>\n",
       "    <tr>\n",
       "      <th>148536</th>\n",
       "      <td>553122</td>\n",
       "      <td>The Food Delight</td>\n",
       "      <td>Yavatmal</td>\n",
       "      <td>--</td>\n",
       "      <td>Too Few Ratings</td>\n",
       "      <td>₹ 200</td>\n",
       "      <td>Fast Food,Snacks</td>\n",
       "      <td>21522053000452</td>\n",
       "      <td>https://www.swiggy.com/restaurants/the-food-de...</td>\n",
       "      <td>The Food Delight, 94MC+X35, New Singhania Naga...</td>\n",
       "      <td>Menu/553122.json</td>\n",
       "    </tr>\n",
       "    <tr>\n",
       "      <th>148537</th>\n",
       "      <td>562647</td>\n",
       "      <td>MAITRI FOODS &amp; BEVERAGES</td>\n",
       "      <td>Yavatmal</td>\n",
       "      <td>--</td>\n",
       "      <td>Too Few Ratings</td>\n",
       "      <td>₹ 300</td>\n",
       "      <td>Pizzas</td>\n",
       "      <td>license</td>\n",
       "      <td>https://www.swiggy.com/restaurants/maitri-food...</td>\n",
       "      <td>MAITRI FOODS &amp; BEVERAGES, POLIC MITRYA SOCIETY...</td>\n",
       "      <td>Menu/562647.json</td>\n",
       "    </tr>\n",
       "    <tr>\n",
       "      <th>148538</th>\n",
       "      <td>559435</td>\n",
       "      <td>Cafe Bella Ciao</td>\n",
       "      <td>Yavatmal</td>\n",
       "      <td>--</td>\n",
       "      <td>Too Few Ratings</td>\n",
       "      <td>₹ 300</td>\n",
       "      <td>Fast Food,Snacks</td>\n",
       "      <td>21522251000378</td>\n",
       "      <td>https://www.swiggy.com/restaurants/cafe-bella-...</td>\n",
       "      <td>Cafe Bella Ciao, SHOP NO 2 NEMANI MARKET SBI S...</td>\n",
       "      <td>Menu/559435.json</td>\n",
       "    </tr>\n",
       "    <tr>\n",
       "      <th>148539</th>\n",
       "      <td>418989</td>\n",
       "      <td>GRILL ZILLA</td>\n",
       "      <td>Yavatmal</td>\n",
       "      <td>--</td>\n",
       "      <td>Too Few Ratings</td>\n",
       "      <td>₹ 250</td>\n",
       "      <td>Continental</td>\n",
       "      <td>21521251000241</td>\n",
       "      <td>https://www.swiggy.com/restaurants/grill-zilla...</td>\n",
       "      <td>GRILL ZILLA, SHO NO 2/6, POSTEL GROUND CHOWPAT...</td>\n",
       "      <td>Menu/418989.json</td>\n",
       "    </tr>\n",
       "    <tr>\n",
       "      <th>148540</th>\n",
       "      <td>447770</td>\n",
       "      <td>Lazeez kitchen</td>\n",
       "      <td>Yavatmal</td>\n",
       "      <td>--</td>\n",
       "      <td>Too Few Ratings</td>\n",
       "      <td>₹ 200</td>\n",
       "      <td>Pizzas</td>\n",
       "      <td>21521251000634</td>\n",
       "      <td>https://www.swiggy.com/restaurants/lazeez-kitc...</td>\n",
       "      <td>Lazeez kitchen, 94G3+2RR, Wadgaon, Yavatmal, M...</td>\n",
       "      <td>Menu/447770.json</td>\n",
       "    </tr>\n",
       "  </tbody>\n",
       "</table>\n",
       "<p>148398 rows × 11 columns</p>\n",
       "</div>"
      ],
      "text/plain": [
       "            id                      name      city rating     rating_count  \\\n",
       "0       567335            AB FOODS POINT    Abohar     --  Too Few Ratings   \n",
       "1       531342         Janta Sweet House    Abohar    4.4      50+ ratings   \n",
       "2       158203         theka coffee desi    Abohar    3.8     100+ ratings   \n",
       "3       187912                 Singh Hut    Abohar    3.7      20+ ratings   \n",
       "4       543530             GRILL MASTERS    Abohar     --  Too Few Ratings   \n",
       "...        ...                       ...       ...    ...              ...   \n",
       "148536  553122          The Food Delight  Yavatmal     --  Too Few Ratings   \n",
       "148537  562647  MAITRI FOODS & BEVERAGES  Yavatmal     --  Too Few Ratings   \n",
       "148538  559435           Cafe Bella Ciao  Yavatmal     --  Too Few Ratings   \n",
       "148539  418989               GRILL ZILLA  Yavatmal     --  Too Few Ratings   \n",
       "148540  447770            Lazeez kitchen  Yavatmal     --  Too Few Ratings   \n",
       "\n",
       "         cost                     cuisine          lic_no  \\\n",
       "0       ₹ 200            Beverages,Pizzas  22122652000138   \n",
       "1       ₹ 200               Sweets,Bakery  12117201000112   \n",
       "2       ₹ 100                   Beverages  22121652000190   \n",
       "3       ₹ 250            Fast Food,Indian  22119652000167   \n",
       "4       ₹ 250  Italian-American,Fast Food  12122201000053   \n",
       "...       ...                         ...             ...   \n",
       "148536  ₹ 200            Fast Food,Snacks  21522053000452   \n",
       "148537  ₹ 300                      Pizzas         license   \n",
       "148538  ₹ 300            Fast Food,Snacks  21522251000378   \n",
       "148539  ₹ 250                 Continental  21521251000241   \n",
       "148540  ₹ 200                      Pizzas  21521251000634   \n",
       "\n",
       "                                                     link  \\\n",
       "0       https://www.swiggy.com/restaurants/ab-foods-po...   \n",
       "1       https://www.swiggy.com/restaurants/janta-sweet...   \n",
       "2       https://www.swiggy.com/restaurants/theka-coffe...   \n",
       "3       https://www.swiggy.com/restaurants/singh-hut-n...   \n",
       "4       https://www.swiggy.com/restaurants/grill-maste...   \n",
       "...                                                   ...   \n",
       "148536  https://www.swiggy.com/restaurants/the-food-de...   \n",
       "148537  https://www.swiggy.com/restaurants/maitri-food...   \n",
       "148538  https://www.swiggy.com/restaurants/cafe-bella-...   \n",
       "148539  https://www.swiggy.com/restaurants/grill-zilla...   \n",
       "148540  https://www.swiggy.com/restaurants/lazeez-kitc...   \n",
       "\n",
       "                                                  address              menu  \n",
       "0       AB FOODS POINT, NEAR RISHI NARANG DENTAL CLINI...  Menu/567335.json  \n",
       "1       Janta Sweet House, Bazar No.9, Circullar Road,...  Menu/531342.json  \n",
       "2              theka coffee desi, sahtiya sadan road city  Menu/158203.json  \n",
       "3         Singh Hut, CIRCULAR ROAD NEAR NEHRU PARK ABOHAR  Menu/187912.json  \n",
       "4       GRILL MASTERS, ADA Heights, Abohar - Hanumanga...  Menu/543530.json  \n",
       "...                                                   ...               ...  \n",
       "148536  The Food Delight, 94MC+X35, New Singhania Naga...  Menu/553122.json  \n",
       "148537  MAITRI FOODS & BEVERAGES, POLIC MITRYA SOCIETY...  Menu/562647.json  \n",
       "148538  Cafe Bella Ciao, SHOP NO 2 NEMANI MARKET SBI S...  Menu/559435.json  \n",
       "148539  GRILL ZILLA, SHO NO 2/6, POSTEL GROUND CHOWPAT...  Menu/418989.json  \n",
       "148540  Lazeez kitchen, 94G3+2RR, Wadgaon, Yavatmal, M...  Menu/447770.json  \n",
       "\n",
       "[148398 rows x 11 columns]"
      ]
     },
     "execution_count": 10,
     "metadata": {},
     "output_type": "execute_result"
    }
   ],
   "source": [
    "# 0.6 or 0.9 are very minute, so we remove them  \n",
    "df.dropna(subset=['name','rating','rating_count','cost','cuisine','address'],how='any')  "
   ]
  },
  {
   "cell_type": "code",
   "execution_count": 11,
   "id": "1792b69b",
   "metadata": {
    "execution": {
     "iopub.execute_input": "2023-02-10T11:31:13.099915Z",
     "iopub.status.busy": "2023-02-10T11:31:13.099491Z",
     "iopub.status.idle": "2023-02-10T11:31:13.503686Z",
     "shell.execute_reply": "2023-02-10T11:31:13.502306Z"
    },
    "papermill": {
     "duration": 0.418454,
     "end_time": "2023-02-10T11:31:13.506698",
     "exception": false,
     "start_time": "2023-02-10T11:31:13.088244",
     "status": "completed"
    },
    "tags": []
   },
   "outputs": [
    {
     "data": {
      "text/plain": [
       "id              0.0\n",
       "name            0.0\n",
       "city            0.0\n",
       "rating          0.0\n",
       "rating_count    0.0\n",
       "cost            0.0\n",
       "cuisine         0.0\n",
       "lic_no          0.0\n",
       "link            0.0\n",
       "address         0.0\n",
       "menu            0.0\n",
       "dtype: float64"
      ]
     },
     "execution_count": 11,
     "metadata": {},
     "output_type": "execute_result"
    }
   ],
   "source": [
    "#Filling the null values in the lic_no with Mode based on each licence number\n",
    "m=df['lic_no'].mode()\n",
    "df.fillna(m)   \n",
    "\n",
    "#Filtering the null rows from null valued columns\n",
    "df = df[-df[\"name\"].isnull()]\n",
    "df = df[-df[\"rating\"].isnull()]\n",
    "df = df[-df[\"rating_count\"].isnull()]\n",
    "df = df[-df[\"cost\"].isnull()]\n",
    "df = df[-df[\"cuisine\"].isnull()]\n",
    "df = df[-df[\"address\"].isnull()]\n",
    "df = df[-df[\"lic_no\"].isnull()]\n",
    "\n",
    "round(100*(df.isnull().sum()/len(df.index)), 2) "
   ]
  },
  {
   "cell_type": "markdown",
   "id": "25ae3d60",
   "metadata": {
    "papermill": {
     "duration": 0.009404,
     "end_time": "2023-02-10T11:31:13.525966",
     "exception": false,
     "start_time": "2023-02-10T11:31:13.516562",
     "status": "completed"
    },
    "tags": []
   },
   "source": [
    "#### Now the data is cleanes without any missing values"
   ]
  },
  {
   "cell_type": "code",
   "execution_count": 12,
   "id": "6ca8e49e",
   "metadata": {
    "execution": {
     "iopub.execute_input": "2023-02-10T11:31:13.547244Z",
     "iopub.status.busy": "2023-02-10T11:31:13.546874Z",
     "iopub.status.idle": "2023-02-10T11:31:13.553712Z",
     "shell.execute_reply": "2023-02-10T11:31:13.552394Z"
    },
    "papermill": {
     "duration": 0.020207,
     "end_time": "2023-02-10T11:31:13.556092",
     "exception": false,
     "start_time": "2023-02-10T11:31:13.535885",
     "status": "completed"
    },
    "tags": []
   },
   "outputs": [
    {
     "data": {
      "text/plain": [
       "0.18999999999999773"
      ]
     },
     "execution_count": 12,
     "metadata": {},
     "output_type": "execute_result"
    }
   ],
   "source": [
    "#Calculating the data loss\n",
    "100-round(100*len(df.index)/148541,2) "
   ]
  },
  {
   "cell_type": "markdown",
   "id": "45045151",
   "metadata": {
    "papermill": {
     "duration": 0.009379,
     "end_time": "2023-02-10T11:31:13.575259",
     "exception": false,
     "start_time": "2023-02-10T11:31:13.565880",
     "status": "completed"
    },
    "tags": []
   },
   "source": [
    "#### We lost 0.1% data in the data cleaning process"
   ]
  },
  {
   "cell_type": "markdown",
   "id": "b1bf2666",
   "metadata": {
    "papermill": {
     "duration": 0.010363,
     "end_time": "2023-02-10T11:31:13.595237",
     "exception": false,
     "start_time": "2023-02-10T11:31:13.584874",
     "status": "completed"
    },
    "tags": []
   },
   "source": [
    "## 2. Check for duplicated column"
   ]
  },
  {
   "cell_type": "code",
   "execution_count": 13,
   "id": "9c88777a",
   "metadata": {
    "execution": {
     "iopub.execute_input": "2023-02-10T11:31:13.618154Z",
     "iopub.status.busy": "2023-02-10T11:31:13.616973Z",
     "iopub.status.idle": "2023-02-10T11:31:13.930387Z",
     "shell.execute_reply": "2023-02-10T11:31:13.929000Z"
    },
    "papermill": {
     "duration": 0.327069,
     "end_time": "2023-02-10T11:31:13.932891",
     "exception": false,
     "start_time": "2023-02-10T11:31:13.605822",
     "status": "completed"
    },
    "tags": []
   },
   "outputs": [
    {
     "data": {
      "text/plain": [
       "0"
      ]
     },
     "execution_count": 13,
     "metadata": {},
     "output_type": "execute_result"
    }
   ],
   "source": [
    "df.duplicated().sum() "
   ]
  },
  {
   "cell_type": "markdown",
   "id": "48ef2cac",
   "metadata": {
    "papermill": {
     "duration": 0.010027,
     "end_time": "2023-02-10T11:31:13.953120",
     "exception": false,
     "start_time": "2023-02-10T11:31:13.943093",
     "status": "completed"
    },
    "tags": []
   },
   "source": [
    "#### there is no duplicated column in the data set "
   ]
  },
  {
   "cell_type": "markdown",
   "id": "1bcb000b",
   "metadata": {
    "papermill": {
     "duration": 0.009994,
     "end_time": "2023-02-10T11:31:13.973276",
     "exception": false,
     "start_time": "2023-02-10T11:31:13.963282",
     "status": "completed"
    },
    "tags": []
   },
   "source": [
    "## 3. Check for appropriate datatype"
   ]
  },
  {
   "cell_type": "code",
   "execution_count": 14,
   "id": "858d5cac",
   "metadata": {
    "execution": {
     "iopub.execute_input": "2023-02-10T11:31:13.995237Z",
     "iopub.status.busy": "2023-02-10T11:31:13.994806Z",
     "iopub.status.idle": "2023-02-10T11:31:14.081606Z",
     "shell.execute_reply": "2023-02-10T11:31:14.080519Z"
    },
    "papermill": {
     "duration": 0.100429,
     "end_time": "2023-02-10T11:31:14.084025",
     "exception": false,
     "start_time": "2023-02-10T11:31:13.983596",
     "status": "completed"
    },
    "tags": []
   },
   "outputs": [],
   "source": [
    "# # for rating column \n",
    "# replace '--' with 0 and typecasted to float \n",
    "\n",
    "def fun(column):\n",
    "    rating_int = []\n",
    "    for i in column:\n",
    "        if i=='--':\n",
    "            rating_int.append(0)\n",
    "        else:\n",
    "            rating_int.append(float(i)) \n",
    "    return rating_int \n",
    "\n",
    "df['rating'] = fun(df['rating'])\n",
    "df['rating'].replace(0.0,round(df['rating'].mean(),2), inplace=True)   "
   ]
  },
  {
   "cell_type": "code",
   "execution_count": 15,
   "id": "b1bdddde",
   "metadata": {
    "execution": {
     "iopub.execute_input": "2023-02-10T11:31:14.109719Z",
     "iopub.status.busy": "2023-02-10T11:31:14.108827Z",
     "iopub.status.idle": "2023-02-10T11:31:14.125077Z",
     "shell.execute_reply": "2023-02-10T11:31:14.123903Z"
    },
    "papermill": {
     "duration": 0.032723,
     "end_time": "2023-02-10T11:31:14.127388",
     "exception": false,
     "start_time": "2023-02-10T11:31:14.094665",
     "status": "completed"
    },
    "tags": []
   },
   "outputs": [
    {
     "data": {
      "text/plain": [
       "Too Few Ratings    86912\n",
       "20+ ratings        21604\n",
       "100+ ratings       20514\n",
       "50+ ratings        11985\n",
       "500+ ratings        4390\n",
       "1K+ ratings         2737\n",
       "5K+ ratings           98\n",
       "10K+ ratings          15\n",
       "Name: rating_count, dtype: int64"
      ]
     },
     "execution_count": 15,
     "metadata": {},
     "output_type": "execute_result"
    }
   ],
   "source": [
    "df['rating_count'].value_counts() "
   ]
  },
  {
   "cell_type": "code",
   "execution_count": 16,
   "id": "8e6e8008",
   "metadata": {
    "execution": {
     "iopub.execute_input": "2023-02-10T11:31:14.155952Z",
     "iopub.status.busy": "2023-02-10T11:31:14.155354Z",
     "iopub.status.idle": "2023-02-10T11:31:14.301311Z",
     "shell.execute_reply": "2023-02-10T11:31:14.299706Z"
    },
    "papermill": {
     "duration": 0.162067,
     "end_time": "2023-02-10T11:31:14.304069",
     "exception": false,
     "start_time": "2023-02-10T11:31:14.142002",
     "status": "completed"
    },
    "tags": []
   },
   "outputs": [],
   "source": [
    "# for rating counts \n",
    "# convert Too Few Ratings to 1 and whole typecasted to float \n",
    "\n",
    "def fun(n):\n",
    "    try:\n",
    "        num = n.split(\" \")[0]\n",
    "        if num.split('+')[0].isdigit():\n",
    "            return float(num.split('+')[0]) \n",
    "        else:\n",
    "            return 1 \n",
    "    except:\n",
    "        return n \n",
    "\n",
    "df['rating_count']=df['rating_count'].apply(fun)  "
   ]
  },
  {
   "cell_type": "code",
   "execution_count": 17,
   "id": "201479f7",
   "metadata": {
    "execution": {
     "iopub.execute_input": "2023-02-10T11:31:14.326147Z",
     "iopub.status.busy": "2023-02-10T11:31:14.325782Z",
     "iopub.status.idle": "2023-02-10T11:31:14.428905Z",
     "shell.execute_reply": "2023-02-10T11:31:14.427810Z"
    },
    "papermill": {
     "duration": 0.116909,
     "end_time": "2023-02-10T11:31:14.431205",
     "exception": false,
     "start_time": "2023-02-10T11:31:14.314296",
     "status": "completed"
    },
    "tags": []
   },
   "outputs": [],
   "source": [
    "# for cost column \n",
    "# just remove the ₹ sign and convert to float \n",
    "\n",
    "def fun(a):\n",
    "    try:\n",
    "        return float(a.split('₹')[1]) \n",
    "    except:\n",
    "        return 0 \n",
    "\n",
    "df['cost'] = df['cost'].apply(fun)    "
   ]
  },
  {
   "cell_type": "markdown",
   "id": "b396baad",
   "metadata": {
    "papermill": {
     "duration": 0.011245,
     "end_time": "2023-02-10T11:31:14.453369",
     "exception": false,
     "start_time": "2023-02-10T11:31:14.442124",
     "status": "completed"
    },
    "tags": []
   },
   "source": [
    "#### Data Cleaning is completed now"
   ]
  },
  {
   "cell_type": "markdown",
   "id": "14e6977e",
   "metadata": {
    "papermill": {
     "duration": 0.010264,
     "end_time": "2023-02-10T11:31:14.474155",
     "exception": false,
     "start_time": "2023-02-10T11:31:14.463891",
     "status": "completed"
    },
    "tags": []
   },
   "source": [
    "# Exploratory data Analysis "
   ]
  },
  {
   "cell_type": "code",
   "execution_count": 18,
   "id": "0df4e128",
   "metadata": {
    "execution": {
     "iopub.execute_input": "2023-02-10T11:31:14.499069Z",
     "iopub.status.busy": "2023-02-10T11:31:14.498353Z",
     "iopub.status.idle": "2023-02-10T11:31:14.540745Z",
     "shell.execute_reply": "2023-02-10T11:31:14.539287Z"
    },
    "papermill": {
     "duration": 0.057936,
     "end_time": "2023-02-10T11:31:14.542992",
     "exception": false,
     "start_time": "2023-02-10T11:31:14.485056",
     "status": "completed"
    },
    "tags": []
   },
   "outputs": [
    {
     "data": {
      "text/html": [
       "<div>\n",
       "<style scoped>\n",
       "    .dataframe tbody tr th:only-of-type {\n",
       "        vertical-align: middle;\n",
       "    }\n",
       "\n",
       "    .dataframe tbody tr th {\n",
       "        vertical-align: top;\n",
       "    }\n",
       "\n",
       "    .dataframe thead th {\n",
       "        text-align: right;\n",
       "    }\n",
       "</style>\n",
       "<table border=\"1\" class=\"dataframe\">\n",
       "  <thead>\n",
       "    <tr style=\"text-align: right;\">\n",
       "      <th></th>\n",
       "      <th>id</th>\n",
       "      <th>rating</th>\n",
       "      <th>rating_count</th>\n",
       "      <th>cost</th>\n",
       "    </tr>\n",
       "  </thead>\n",
       "  <tbody>\n",
       "    <tr>\n",
       "      <th>count</th>\n",
       "      <td>148255.000000</td>\n",
       "      <td>148255.000000</td>\n",
       "      <td>148255.000000</td>\n",
       "      <td>148255.000000</td>\n",
       "    </tr>\n",
       "    <tr>\n",
       "      <th>mean</th>\n",
       "      <td>363737.807649</td>\n",
       "      <td>2.555256</td>\n",
       "      <td>36.204459</td>\n",
       "      <td>287.604931</td>\n",
       "    </tr>\n",
       "    <tr>\n",
       "      <th>std</th>\n",
       "      <td>167787.159149</td>\n",
       "      <td>1.163415</td>\n",
       "      <td>87.958896</td>\n",
       "      <td>797.125421</td>\n",
       "    </tr>\n",
       "    <tr>\n",
       "      <th>min</th>\n",
       "      <td>211.000000</td>\n",
       "      <td>1.000000</td>\n",
       "      <td>1.000000</td>\n",
       "      <td>1.000000</td>\n",
       "    </tr>\n",
       "    <tr>\n",
       "      <th>25%</th>\n",
       "      <td>234022.500000</td>\n",
       "      <td>1.610000</td>\n",
       "      <td>1.000000</td>\n",
       "      <td>200.000000</td>\n",
       "    </tr>\n",
       "    <tr>\n",
       "      <th>50%</th>\n",
       "      <td>412935.000000</td>\n",
       "      <td>1.610000</td>\n",
       "      <td>1.000000</td>\n",
       "      <td>250.000000</td>\n",
       "    </tr>\n",
       "    <tr>\n",
       "      <th>75%</th>\n",
       "      <td>502339.500000</td>\n",
       "      <td>3.800000</td>\n",
       "      <td>20.000000</td>\n",
       "      <td>300.000000</td>\n",
       "    </tr>\n",
       "    <tr>\n",
       "      <th>max</th>\n",
       "      <td>581031.000000</td>\n",
       "      <td>5.000000</td>\n",
       "      <td>500.000000</td>\n",
       "      <td>300350.000000</td>\n",
       "    </tr>\n",
       "  </tbody>\n",
       "</table>\n",
       "</div>"
      ],
      "text/plain": [
       "                  id         rating   rating_count           cost\n",
       "count  148255.000000  148255.000000  148255.000000  148255.000000\n",
       "mean   363737.807649       2.555256      36.204459     287.604931\n",
       "std    167787.159149       1.163415      87.958896     797.125421\n",
       "min       211.000000       1.000000       1.000000       1.000000\n",
       "25%    234022.500000       1.610000       1.000000     200.000000\n",
       "50%    412935.000000       1.610000       1.000000     250.000000\n",
       "75%    502339.500000       3.800000      20.000000     300.000000\n",
       "max    581031.000000       5.000000     500.000000  300350.000000"
      ]
     },
     "execution_count": 18,
     "metadata": {},
     "output_type": "execute_result"
    }
   ],
   "source": [
    "# Mathematical summary \n",
    "df.describe() "
   ]
  },
  {
   "cell_type": "code",
   "execution_count": 19,
   "id": "3db7c5e4",
   "metadata": {
    "execution": {
     "iopub.execute_input": "2023-02-10T11:31:14.564958Z",
     "iopub.status.busy": "2023-02-10T11:31:14.564313Z",
     "iopub.status.idle": "2023-02-10T11:31:14.586591Z",
     "shell.execute_reply": "2023-02-10T11:31:14.585366Z"
    },
    "papermill": {
     "duration": 0.036048,
     "end_time": "2023-02-10T11:31:14.589066",
     "exception": false,
     "start_time": "2023-02-10T11:31:14.553018",
     "status": "completed"
    },
    "tags": []
   },
   "outputs": [
    {
     "data": {
      "text/plain": [
       "name\n",
       "FOODY MOOD                  4.7\n",
       "Bharawan Da Dhaba           4.4\n",
       "Janta Sweet House           4.4\n",
       "Domino's Pizza              4.4\n",
       "Hinglaj Kachori Bhandhar    4.2\n",
       "Name: rating, dtype: float64"
      ]
     },
     "execution_count": 19,
     "metadata": {},
     "output_type": "execute_result"
    }
   ],
   "source": [
    "# 1. Restaurant with Maximum Rating in Abohar\n",
    "df1 = df[df['city']=='Abohar']\n",
    "max_rating_in_city = df1.groupby('name')['rating'].max().sort_values(ascending=False).head(5) \n",
    "max_rating_in_city "
   ]
  },
  {
   "cell_type": "code",
   "execution_count": 20,
   "id": "a620316a",
   "metadata": {
    "execution": {
     "iopub.execute_input": "2023-02-10T11:31:14.613279Z",
     "iopub.status.busy": "2023-02-10T11:31:14.612096Z",
     "iopub.status.idle": "2023-02-10T11:31:14.817164Z",
     "shell.execute_reply": "2023-02-10T11:31:14.816364Z"
    },
    "papermill": {
     "duration": 0.218898,
     "end_time": "2023-02-10T11:31:14.819048",
     "exception": false,
     "start_time": "2023-02-10T11:31:14.600150",
     "status": "completed"
    },
    "tags": []
   },
   "outputs": [
    {
     "data": {
      "image/png": "[encoded data removed]",
      "text/plain": [
       "<Figure size 720x504 with 1 Axes>"
      ]
     },
     "metadata": {
      "needs_background": "light"
     },
     "output_type": "display_data"
    }
   ],
   "source": [
    "plt.figure(figsize=(10, 7))\n",
    "max_rating_in_city.plot.bar()\n",
    "plt.ylabel(\"Rating in number\")\n",
    "plt.xlabel(\"Restaurent name\")\n",
    "plt.title(\"Restaurant with Maximum Rating in Abohar City of Punjab\") \n",
    "plt.show()"
   ]
  },
  {
   "cell_type": "code",
   "execution_count": 21,
   "id": "402a2259",
   "metadata": {
    "execution": {
     "iopub.execute_input": "2023-02-10T11:31:14.844090Z",
     "iopub.status.busy": "2023-02-10T11:31:14.843267Z",
     "iopub.status.idle": "2023-02-10T11:31:14.872028Z",
     "shell.execute_reply": "2023-02-10T11:31:14.870699Z"
    },
    "papermill": {
     "duration": 0.044339,
     "end_time": "2023-02-10T11:31:14.874588",
     "exception": false,
     "start_time": "2023-02-10T11:31:14.830249",
     "status": "completed"
    },
    "tags": []
   },
   "outputs": [
    {
     "data": {
      "text/plain": [
       "821"
      ]
     },
     "execution_count": 21,
     "metadata": {},
     "output_type": "execute_result"
    }
   ],
   "source": [
    "# 2. Number of cities (including subregions) where swiggy is having their restaurants listed? \n",
    "len(df.groupby('city'))  "
   ]
  },
  {
   "cell_type": "code",
   "execution_count": 22,
   "id": "ac807148",
   "metadata": {
    "execution": {
     "iopub.execute_input": "2023-02-10T11:31:14.898560Z",
     "iopub.status.busy": "2023-02-10T11:31:14.898164Z",
     "iopub.status.idle": "2023-02-10T11:31:14.965600Z",
     "shell.execute_reply": "2023-02-10T11:31:14.964216Z"
    },
    "papermill": {
     "duration": 0.081636,
     "end_time": "2023-02-10T11:31:14.967718",
     "exception": false,
     "start_time": "2023-02-10T11:31:14.886082",
     "status": "completed"
    },
    "tags": []
   },
   "outputs": [
    {
     "data": {
      "text/plain": [
       "552"
      ]
     },
     "execution_count": 22,
     "metadata": {},
     "output_type": "execute_result"
    }
   ],
   "source": [
    "# 3. Number of cities (don't include subregions) where swiggy is having their restaurants listed? \n",
    "df['city'].apply(lambda x: x.split(\",\")[-1]).nunique() "
   ]
  },
  {
   "cell_type": "code",
   "execution_count": 23,
   "id": "394bd826",
   "metadata": {
    "execution": {
     "iopub.execute_input": "2023-02-10T11:31:14.991219Z",
     "iopub.status.busy": "2023-02-10T11:31:14.990851Z",
     "iopub.status.idle": "2023-02-10T11:31:15.012625Z",
     "shell.execute_reply": "2023-02-10T11:31:15.011213Z"
    },
    "papermill": {
     "duration": 0.036682,
     "end_time": "2023-02-10T11:31:15.015325",
     "exception": false,
     "start_time": "2023-02-10T11:31:14.978643",
     "status": "completed"
    },
    "tags": []
   },
   "outputs": [
    {
     "data": {
      "text/plain": [
       "'Bikaner'"
      ]
     },
     "execution_count": 23,
     "metadata": {},
     "output_type": "execute_result"
    }
   ],
   "source": [
    "# 4. The city with the maximum number of restaurants listed on Swiggy? \n",
    "df.groupby('city').size().sort_values(ascending=False).reset_index().iloc[0,0]    "
   ]
  },
  {
   "cell_type": "code",
   "execution_count": 24,
   "id": "43c26ad0",
   "metadata": {
    "execution": {
     "iopub.execute_input": "2023-02-10T11:31:15.038389Z",
     "iopub.status.busy": "2023-02-10T11:31:15.038048Z",
     "iopub.status.idle": "2023-02-10T11:31:15.127635Z",
     "shell.execute_reply": "2023-02-10T11:31:15.126399Z"
    },
    "papermill": {
     "duration": 0.104259,
     "end_time": "2023-02-10T11:31:15.130488",
     "exception": false,
     "start_time": "2023-02-10T11:31:15.026229",
     "status": "completed"
    },
    "tags": []
   },
   "outputs": [
    {
     "data": {
      "text/plain": [
       "\"Domino's Pizza\""
      ]
     },
     "execution_count": 24,
     "metadata": {},
     "output_type": "execute_result"
    }
   ],
   "source": [
    "# 5. Restaurant chain with maximum number of branches? \n",
    "df['name'].value_counts().sort_values(ascending=False).index[0] "
   ]
  },
  {
   "cell_type": "code",
   "execution_count": 25,
   "id": "b62df7e5",
   "metadata": {
    "execution": {
     "iopub.execute_input": "2023-02-10T11:31:15.155779Z",
     "iopub.status.busy": "2023-02-10T11:31:15.154534Z",
     "iopub.status.idle": "2023-02-10T11:31:15.184068Z",
     "shell.execute_reply": "2023-02-10T11:31:15.182594Z"
    },
    "papermill": {
     "duration": 0.0447,
     "end_time": "2023-02-10T11:31:15.186769",
     "exception": false,
     "start_time": "2023-02-10T11:31:15.142069",
     "status": "completed"
    },
    "tags": []
   },
   "outputs": [
    {
     "data": {
      "text/plain": [
       "city\n",
       "Bikaner                      1665\n",
       "Noida-1                      1424\n",
       "Indirapuram,Delhi            1279\n",
       "BTM,Bangalore                1159\n",
       "Rohini,Delhi                 1135\n",
       "Kothrud,Pune                 1086\n",
       "Indiranagar,Bangalore        1079\n",
       "Electronic City,Bangalore    1039\n",
       "Greater Kailash 2,Delhi      1037\n",
       "Vashi,Mumbai                 1021\n",
       "Name: name, dtype: int64"
      ]
     },
     "execution_count": 25,
     "metadata": {},
     "output_type": "execute_result"
    }
   ],
   "source": [
    "# 6. Top 10 cities as per the number of restaurants listed?  \n",
    "top_10_cities = df.groupby('city')['name'].count().sort_values(ascending=False).head(10)\n",
    "top_10_cities "
   ]
  },
  {
   "cell_type": "code",
   "execution_count": 26,
   "id": "65e80a3a",
   "metadata": {
    "execution": {
     "iopub.execute_input": "2023-02-10T11:31:15.211960Z",
     "iopub.status.busy": "2023-02-10T11:31:15.211394Z",
     "iopub.status.idle": "2023-02-10T11:31:15.412564Z",
     "shell.execute_reply": "2023-02-10T11:31:15.411698Z"
    },
    "papermill": {
     "duration": 0.216004,
     "end_time": "2023-02-10T11:31:15.414549",
     "exception": false,
     "start_time": "2023-02-10T11:31:15.198545",
     "status": "completed"
    },
    "tags": []
   },
   "outputs": [
    {
     "data": {
      "image/png": "[encoded data removed]",
      "text/plain": [
       "<Figure size 1080x576 with 1 Axes>"
      ]
     },
     "metadata": {
      "needs_background": "light"
     },
     "output_type": "display_data"
    }
   ],
   "source": [
    "plt.figure(figsize=(15, 8))\n",
    "top_10_cities.plot.bar()\n",
    "plt.ylabel(\"number of restaurants\")\n",
    "plt.xlabel(\"Cities\")\n",
    "plt.title(\"Top 10 cities as per the number of restaurants\") \n",
    "plt.show() "
   ]
  },
  {
   "cell_type": "code",
   "execution_count": 27,
   "id": "62b75851",
   "metadata": {
    "execution": {
     "iopub.execute_input": "2023-02-10T11:31:15.438992Z",
     "iopub.status.busy": "2023-02-10T11:31:15.438644Z",
     "iopub.status.idle": "2023-02-10T11:31:15.559982Z",
     "shell.execute_reply": "2023-02-10T11:31:15.558811Z"
    },
    "papermill": {
     "duration": 0.136206,
     "end_time": "2023-02-10T11:31:15.562261",
     "exception": false,
     "start_time": "2023-02-10T11:31:15.426055",
     "status": "completed"
    },
    "tags": []
   },
   "outputs": [
    {
     "data": {
      "text/plain": [
       "('Chinese',)"
      ]
     },
     "execution_count": 27,
     "metadata": {},
     "output_type": "execute_result"
    }
   ],
   "source": [
    "# 7. Most Popular Cuisines served throughout the dataset? \n",
    "a = []\n",
    "for i in df['cuisine'].values:\n",
    "    try:\n",
    "        for j in i.split(','):\n",
    "            a.append(j)\n",
    "            \n",
    "    except:\n",
    "        a.append(i) \n",
    "        \n",
    "pd.DataFrame({\"all_cuisine\":a}).value_counts().head(1).index[0]  "
   ]
  },
  {
   "cell_type": "code",
   "execution_count": 28,
   "id": "92b89a98",
   "metadata": {
    "execution": {
     "iopub.execute_input": "2023-02-10T11:31:15.587183Z",
     "iopub.status.busy": "2023-02-10T11:31:15.586379Z",
     "iopub.status.idle": "2023-02-10T11:31:15.607013Z",
     "shell.execute_reply": "2023-02-10T11:31:15.606089Z"
    },
    "papermill": {
     "duration": 0.035492,
     "end_time": "2023-02-10T11:31:15.609385",
     "exception": false,
     "start_time": "2023-02-10T11:31:15.573893",
     "status": "completed"
    },
    "tags": []
   },
   "outputs": [
    {
     "data": {
      "text/plain": [
       "'Hampi'"
      ]
     },
     "execution_count": 28,
     "metadata": {},
     "output_type": "execute_result"
    }
   ],
   "source": [
    "# 8. Which city is having the least expensive restaurant in terms of cost?\n",
    "df.groupby('city')['cost'].mean().sort_values().index[0]  "
   ]
  },
  {
   "cell_type": "code",
   "execution_count": 29,
   "id": "722fb38c",
   "metadata": {
    "execution": {
     "iopub.execute_input": "2023-02-10T11:31:15.635481Z",
     "iopub.status.busy": "2023-02-10T11:31:15.634852Z",
     "iopub.status.idle": "2023-02-10T11:31:15.797209Z",
     "shell.execute_reply": "2023-02-10T11:31:15.796294Z"
    },
    "papermill": {
     "duration": 0.177104,
     "end_time": "2023-02-10T11:31:15.798924",
     "exception": false,
     "start_time": "2023-02-10T11:31:15.621820",
     "status": "completed"
    },
    "tags": []
   },
   "outputs": [
    {
     "data": {
      "text/plain": [
       "name\n",
       "DESI REPUBLIC              5.0\n",
       "Just Dig In                5.0\n",
       "Kurries & krolls           5.0\n",
       "SHREE SAMARTHA CHAPATIS    5.0\n",
       "OLIVE PIZZERIA             5.0\n",
       "Name: rating, dtype: float64"
      ]
     },
     "execution_count": 29,
     "metadata": {},
     "output_type": "execute_result"
    }
   ],
   "source": [
    "# 9. Top 5 most popular restaurant chains in India? \n",
    "Top_5_most_popular_restaurant_chains = df.groupby('name')['rating'].mean().sort_values(ascending=False).head(5)  \n",
    "Top_5_most_popular_restaurant_chains "
   ]
  },
  {
   "cell_type": "code",
   "execution_count": 30,
   "id": "8152e5f7",
   "metadata": {
    "execution": {
     "iopub.execute_input": "2023-02-10T11:31:15.823998Z",
     "iopub.status.busy": "2023-02-10T11:31:15.822651Z",
     "iopub.status.idle": "2023-02-10T11:31:15.994355Z",
     "shell.execute_reply": "2023-02-10T11:31:15.993154Z"
    },
    "papermill": {
     "duration": 0.187004,
     "end_time": "2023-02-10T11:31:15.997324",
     "exception": false,
     "start_time": "2023-02-10T11:31:15.810320",
     "status": "completed"
    },
    "tags": []
   },
   "outputs": [
    {
     "data": {
      "image/png": "[encoded data removed]",
      "text/plain": [
       "<Figure size 1080x576 with 1 Axes>"
      ]
     },
     "metadata": {
      "needs_background": "light"
     },
     "output_type": "display_data"
    }
   ],
   "source": [
    "plt.figure(figsize=(15, 8))\n",
    "Top_5_most_popular_restaurant_chains.plot.bar()\n",
    "plt.ylabel(\"rating\")\n",
    "plt.xlabel(\"Restaurent\")\n",
    "plt.title(\"Top 5 most popular restaurant chains in India\") \n",
    "plt.show() "
   ]
  },
  {
   "cell_type": "code",
   "execution_count": 31,
   "id": "0f20af91",
   "metadata": {
    "execution": {
     "iopub.execute_input": "2023-02-10T11:31:16.022700Z",
     "iopub.status.busy": "2023-02-10T11:31:16.022344Z",
     "iopub.status.idle": "2023-02-10T11:31:16.088258Z",
     "shell.execute_reply": "2023-02-10T11:31:16.087083Z"
    },
    "papermill": {
     "duration": 0.081571,
     "end_time": "2023-02-10T11:31:16.090862",
     "exception": false,
     "start_time": "2023-02-10T11:31:16.009291",
     "status": "completed"
    },
    "tags": []
   },
   "outputs": [],
   "source": [
    "df2 = df[df['city'].str.contains('Bangalore')]"
   ]
  },
  {
   "cell_type": "code",
   "execution_count": 32,
   "id": "070b2950",
   "metadata": {
    "execution": {
     "iopub.execute_input": "2023-02-10T11:31:16.117251Z",
     "iopub.status.busy": "2023-02-10T11:31:16.116897Z",
     "iopub.status.idle": "2023-02-10T11:31:16.188627Z",
     "shell.execute_reply": "2023-02-10T11:31:16.186980Z"
    },
    "papermill": {
     "duration": 0.087215,
     "end_time": "2023-02-10T11:31:16.190606",
     "exception": false,
     "start_time": "2023-02-10T11:31:16.103391",
     "status": "completed"
    },
    "tags": []
   },
   "outputs": [
    {
     "data": {
      "text/plain": [
       "\"Domino's Pizza\""
      ]
     },
     "execution_count": 32,
     "metadata": {},
     "output_type": "execute_result"
    }
   ],
   "source": [
    "# 10. Which restaurant in Banglore has the most number of people visited(take a number of reviews for reference)? \n",
    "\n",
    "df2 = df[df['city'].str.contains('Bangalore')]\n",
    "df2.groupby('name')['rating_count'].sum().sort_values(ascending=False).index[0] "
   ]
  },
  {
   "cell_type": "code",
   "execution_count": null,
   "id": "018cbc23",
   "metadata": {
    "papermill": {
     "duration": 0.011535,
     "end_time": "2023-02-10T11:31:16.214125",
     "exception": false,
     "start_time": "2023-02-10T11:31:16.202590",
     "status": "completed"
    },
    "tags": []
   },
   "outputs": [],
   "source": []
  }
 ],
 "metadata": {
  "kernelspec": {
   "display_name": "Python 3",
   "language": "python",
   "name": "python3"
  },
  "language_info": {
   "codemirror_mode": {
    "name": "ipython",
    "version": 3
   },
   "file_extension": ".py",
   "mimetype": "text/x-python",
   "name": "python",
   "nbconvert_exporter": "python",
   "pygments_lexer": "ipython3",
   "version": "3.7.12"
  },
  "papermill": {
   "default_parameters": {},
   "duration": 14.927692,
   "end_time": "2023-02-10T11:31:16.945848",
   "environment_variables": {},
   "exception": null,
   "input_path": "__notebook__.ipynb",
   "output_path": "__notebook__.ipynb",
   "parameters": {},
   "start_time": "2023-02-10T11:31:02.018156",
   "version": "2.3.4"
  }
 },
 "nbformat": 4,
 "nbformat_minor": 5
}
